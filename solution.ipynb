{
 "cells": [
  {
   "cell_type": "code",
   "execution_count": 226,
   "metadata": {},
   "outputs": [],
   "source": [
    "import requests\n",
    "from bs4 import BeautifulSoup\n",
    "from urllib.parse import urlparse, urljoin\n"
   ]
  },
  {
   "cell_type": "code",
   "execution_count": 227,
   "metadata": {},
   "outputs": [],
   "source": [
    "visited_links = set()\n",
    "file_counts = {}\n",
    "data = {}"
   ]
  },
  {
   "cell_type": "code",
   "execution_count": 228,
   "metadata": {},
   "outputs": [],
   "source": [
    "def get_hrefs(url):\n",
    "    try:\n",
    "        response = requests.get(url)\n",
    "        soup = BeautifulSoup(response.content, 'html.parser')\n",
    "        links = set()\n",
    "        for tag in soup.find_all(['a', 'link', 'script', 'img']):\n",
    "            href = tag.get('href')\n",
    "            src = tag.get('src')\n",
    "\n",
    "            if href:\n",
    "                full_url = urljoin(url, href)\n",
    "                parsed_url = urlparse(full_url)\n",
    "                if parsed_url.fragment:\n",
    "                    updated_url = urljoin(parsed_url.geturl(), parsed_url.fragment)\n",
    "                    links.add(updated_url)\n",
    "                else:\n",
    "                    links.add(full_url)\n",
    "\n",
    "            if src:\n",
    "                links.add(urljoin(url, src))\n",
    "\n",
    "        return list(links)\n",
    "    except requests.exceptions.RequestException as e:\n",
    "        print(f'Error occurred while retrieving {url}: {e}')\n",
    "        return []"
   ]
  },
  {
   "cell_type": "code",
   "execution_count": 229,
   "metadata": {},
   "outputs": [],
   "source": [
    "def filter_internal_links(links, domain):\n",
    "    internal_links = []\n",
    "\n",
    "    for link in links:\n",
    "        parsed_url = urlparse(link)\n",
    "\n",
    "        if parsed_url.netloc == domain:\n",
    "            internal_links.append(link)\n",
    "\n",
    "    return internal_links"
   ]
  },
  {
   "cell_type": "code",
   "execution_count": 230,
   "metadata": {},
   "outputs": [],
   "source": [
    "def get_data(url):\n",
    "    try:\n",
    "        response = requests.get(url)\n",
    "        soup = BeautifulSoup(response.content, 'html.parser')\n",
    "        text = soup.get_text()\n",
    "        # get h1 tags data and return it\n",
    "        headings = []\n",
    "        h1 = soup.find_all('h1')\n",
    "        h2 = soup.find_all('h2')\n",
    "        h3 = soup.find_all('h3')\n",
    "        for h in h1:\n",
    "            headings.append(h.get_text())\n",
    "        for h in h2:\n",
    "            headings.append(h.get_text())\n",
    "        for h in h3:\n",
    "            headings.append(h.get_text())\n",
    "        \n",
    "        for a in headings:\n",
    "            a.replace('\\n', '')\n",
    "        return headings\n",
    "        \n",
    "    except requests.exceptions.RequestException as e:\n",
    "        print(f'Error occurred while retrieving {url}: {e}')\n",
    "        return []"
   ]
  },
  {
   "cell_type": "code",
   "execution_count": 231,
   "metadata": {},
   "outputs": [],
   "source": [
    "def crawl(url, threshold, max_visited_links, depth=1):\n",
    "    global visited_links\n",
    "\n",
    "    if depth > threshold:\n",
    "        return\n",
    "    \n",
    "    if len(visited_links) >= max_visited_links:\n",
    "        return\n",
    "    \n",
    "    if url in visited_links:\n",
    "        return\n",
    "\n",
    "    visited_links.add(url)\n",
    "    print(f'Processing: {url}')\n",
    "    links = get_hrefs(url)\n",
    "    internal_links = filter_internal_links(links, urlparse(url).netloc)\n",
    "\n",
    "    data[url] = internal_links\n",
    "\n",
    "    for link in internal_links:\n",
    "        if not link.endswith(('.png', '.jpg', '.jpeg', '.gif', '.pdf', 'js', '.css', '.webp')):\n",
    "            crawl(link, threshold, max_visited_links, depth + 1)"
   ]
  },
  {
   "cell_type": "code",
   "execution_count": 232,
   "metadata": {},
   "outputs": [],
   "source": [
    "def print_data(data):\n",
    "    for url, h1_data in data.items():\n",
    "        print(f'url: {url}')\n",
    "        print('data: \\n')\n",
    "        for data in h1_data:\n",
    "            print(data)\n",
    "        print('')"
   ]
  },
  {
   "cell_type": "code",
   "execution_count": 233,
   "metadata": {},
   "outputs": [],
   "source": [
    "def main(url, threshold, max_visited_links=10):\n",
    "    domain = urlparse(url).netloc\n",
    "    crawl(url, threshold, max_visited_links)\n",
    "    print(f\"Data Dictionary Size: {len(data)}\")\n",
    "    # print_data(data)\n",
    "    for i in data:\n",
    "        print(i)"
   ]
  },
  {
   "cell_type": "code",
   "execution_count": 234,
   "metadata": {},
   "outputs": [
    {
     "name": "stdout",
     "output_type": "stream",
     "text": [
      "Processing: https://www.google.com/search?q=reliance+industries+ril&sca_esv=4ecf938d57668945&rlz=1C1RXQR_enIN1032IN1032&tbm=nws&prmd=nivmsbtz&sxsrf=ACQVn0_5_MBzeVn8bgvWC_GqwvqHY9Gbxw:1710697576484&ei=aCz3ZcSYHdOZvr0PvLinkAE&start=10&sa=N&ved=2ahUKEwjE7PSK7fuEAxXTjK8BHTzcCRI4FBDy0wN6BAgDEAY&biw=2133&bih=1196&dpr=0.9\n"
     ]
    },
    {
     "name": "stdout",
     "output_type": "stream",
     "text": [
      "Processing: https://www.google.com/url?q=https://economictimes.indiatimes.com/markets/stocks/stock-liveblog/reliance-industries-share-price-today-live-updates-11-mar-2024/liveblog/108379328.cms&sa=U&ved=2ahUKEwiViKz_7fuEAxWzZWwGHfxUDvY4ChDF9AF6BAgAEAI&usg=AOvVaw2h_XHu-tHdctNQnbHPhQsb\n",
      "Processing: https://www.google.com/url?q=/search%3Fq%3Dreliance%2Bindustries%2Bril%26sca_esv%3D4ecf938d57668945%26rlz%3D1C1RXQR_enIN1032IN1032%26biw%3D2133%26bih%3D1196%26ie%3DUTF-8%26tbm%3Dshop%26source%3Dlnms%26ved%3D1t:200713%26ictx%3D111&opi=89978449&sa=U&ved=0ahUKEwiViKz_7fuEAxWzZWwGHfxUDvY4ChCJoAwICigF&usg=AOvVaw05tGEyP-W7MsqvyxHJt16_\n",
      "Processing: https://www.google.com/url?q=https://www.businesstoday.in/markets/company-stock/story/reliance-industries-shares-near-record-high-buy-sell-hold-412201-2024-01-08&sa=U&ved=2ahUKEwiViKz_7fuEAxWzZWwGHfxUDvY4ChDF9AF6BAgEEAI&usg=AOvVaw2gAEw8-CRQLXbJ9aI46yrt\n",
      "Processing: https://www.google.com/search?q=reliance+industries+ril&sca_esv=4ecf938d57668945&rlz=1C1RXQR_enIN1032IN1032&biw=2133&bih=1196&ie=UTF-8&tbm=nws&source=lnt&tbs=qdr:h&sa=X&ved=0ahUKEwiViKz_7fuEAxWzZWwGHfxUDvY4ChCnBQgN\n",
      "Processing: https://www.google.com/url?q=https://indianexpress.com/article/india/directors-of-owner-firms-of-donor-no-3-qwik-supply-are-reliance-executives-9217046/&sa=U&ved=2ahUKEwiViKz_7fuEAxWzZWwGHfxUDvY4ChDF9AF6BAgJEAI&usg=AOvVaw1Evb5bs0GCTLm3k7n6igFR\n",
      "Processing: https://www.google.com/search?q=reliance+industries+ril&sca_esv=4ecf938d57668945&rlz=1C1RXQR_enIN1032IN1032&biw=2133&bih=1196&ie=UTF-8&source=lnms&sa=X&ved=0ahUKEwiViKz_7fuEAxWzZWwGHfxUDvY4ChD8BQgFKAA\n",
      "Processing: https://www.google.com/url?q=https://accounts.google.com/ServiceLogin%3Fcontinue%3Dhttps://www.google.com/search%253Fq%253Dreliance%252Bindustries%252Bril%2526sca_esv%253D4ecf938d57668945%2526rlz%253D1C1RXQR_enIN1032IN1032%2526tbm%253Dnws%2526prmd%253Dnivmsbtz%2526sxsrf%253DACQVn0_5_MBzeVn8bgvWC_GqwvqHY9Gbxw:1710697576484%2526ei%253DaCz3ZcSYHdOZvr0PvLinkAE%2526start%253D10%2526sa%253DN%2526ved%253D2ahUKEwjE7PSK7fuEAxXTjK8BHTzcCRI4FBDy0wN6BAgDEAY%2526biw%253D2133%2526bih%253D1196%2526dpr%253D0.9%26hl%3Den&opi=89978449&sa=U&ved=0ahUKEwiViKz_7fuEAxWzZWwGHfxUDvY4ChDGzwIIVA&usg=AOvVaw3FfPBX8aOid22MyF9mV66L\n",
      "Processing: https://www.google.com/search?q=reliance+industries+ril&sca_esv=4ecf938d57668945&rlz=1C1RXQR_enIN1032IN1032&biw=2133&bih=1196&ie=UTF-8&tbm=nws&ei=XC33ZZXqJ7PLseMP_Km5sA8&start=0&sa=N\n",
      "Processing: https://www.google.com/search?q=reliance+industries+ril&sca_esv=4ecf938d57668945&rlz=1C1RXQR_enIN1032IN1032&biw=2133&bih=1196&ie=UTF-8&tbm=nws&source=lnt&tbs=qdr:w&sa=X&ved=0ahUKEwiViKz_7fuEAxWzZWwGHfxUDvY4ChCnBQgP\n",
      "Processing: https://www.google.com/advanced_search\n",
      "Processing: https://www.google.com/url?q=https://www.cnbctv18.com/business/companies/reliance-industries-walt-disney-merger-viacom18-star-india-mukesh-ambani-hotstar-colors-jio-cinema-ril-share-price-19157901.htm&sa=U&ved=2ahUKEwiViKz_7fuEAxWzZWwGHfxUDvY4ChDF9AF6BAgHEAI&usg=AOvVaw0_1La0is6aUBs9xBhpwEKJ\n",
      "Processing: https://www.google.com/url?q=https://www.cnbctv18.com/market/reliance-industries-ril-share-price-record-high-jio-financial-services-stock-market-cap-above-rs-2-lakh-crore-19118271.htm&sa=U&ved=2ahUKEwiViKz_7fuEAxWzZWwGHfxUDvY4ChDF9AF6BAgBEAI&usg=AOvVaw38O29WU2QpMckxFaljYT5F\n",
      "Processing: https://www.google.com/url?q=https://m.economictimes.com/news/politics-and-nation/reliance-linked-qwik-supply-third-largest-electoral-bond-buyer-reliance-says-co-not-its-subsidiary/articleshow/108518268.cms&sa=U&ved=2ahUKEwiViKz_7fuEAxWzZWwGHfxUDvY4ChDF9AF6BAgFEAI&usg=AOvVaw3L7Hx4crxIuQ-UNz7QacSV\n",
      "Processing: https://www.google.com/search?q=reliance+industries+ril&sca_esv=4ecf938d57668945&rlz=1C1RXQR_enIN1032IN1032&biw=2133&bih=1196&ie=UTF-8&tbm=nws&source=lnt&tbs=qdr:d&sa=X&ved=0ahUKEwiViKz_7fuEAxWzZWwGHfxUDvY4ChCnBQgO\n",
      "Processing: https://www.google.com/url?q=https://www.businesstoday.in/markets/company-stock/story/reliance-industries-shares-hit-record-high-target-price-buy-sell-hold-412742-2024-01-11&sa=U&ved=2ahUKEwiViKz_7fuEAxWzZWwGHfxUDvY4ChDF9AF6BAgCEAI&usg=AOvVaw3vLLqQS-3RaOURJL_QQlZd\n",
      "Processing: https://www.google.com/search?q=reliance+industries+ril&sca_esv=4ecf938d57668945&rlz=1C1RXQR_enIN1032IN1032&biw=2133&bih=1196&ie=UTF-8&tbm=nws&ei=XC33ZZXqJ7PLseMP_Km5sA8&start=20&sa=N\n",
      "Processing: https://www.google.com/search?q=reliance+industries+ril&sca_esv=4ecf938d57668945&rlz=1C1RXQR_enIN1032IN1032&biw=2133&bih=1196&ie=UTF-8&tbm=vid&source=lnms&sa=X&ved=0ahUKEwiViKz_7fuEAxWzZWwGHfxUDvY4ChD8BQgIKAM\n",
      "Processing: https://www.google.com/preferences?hl=en-IN&fg=1&sa=X&ved=0ahUKEwiViKz_7fuEAxWzZWwGHfxUDvY4ChDl9QIIVQ\n",
      "Processing: https://www.google.com/search?q=reliance+industries+ril&sca_esv=4ecf938d57668945&rlz=1C1RXQR_enIN1032IN1032&biw=2133&bih=1196&ie=UTF-8&tbm=nws&source=lnt&tbs=qdr:y&sa=X&ved=0ahUKEwiViKz_7fuEAxWzZWwGHfxUDvY4ChCnBQgR\n",
      "Processing: https://www.google.com/search?q=reliance+industries+ril&sca_esv=4ecf938d57668945&rlz=1C1RXQR_enIN1032IN1032&biw=2133&bih=1196&ie=UTF-8&tbm=isch&source=lnms&sa=X&ved=0ahUKEwiViKz_7fuEAxWzZWwGHfxUDvY4ChD8BQgHKAI\n",
      "Processing: https://www.google.com/url?q=https://maps.google.com/maps%3Fq%3Dreliance%2Bindustries%2Bril%26sca_esv%3D4ecf938d57668945%26rlz%3D1C1RXQR_enIN1032IN1032%26prmd%3Dnivmsbtz%26sxsrf%3DACQVn0_5_MBzeVn8bgvWC_GqwvqHY9Gbxw:1710697576484%26biw%3D2133%26bih%3D1196%26dpr%3D0.9%26um%3D1%26ie%3DUTF-8%26ved%3D1t:200713%26ictx%3D111&opi=89978449&sa=U&ved=0ahUKEwiViKz_7fuEAxWzZWwGHfxUDvY4ChCJoAwICSgE&usg=AOvVaw2lGFM2yXTZBj4ieIwO2bAw\n",
      "Processing: https://www.google.com/setprefs?hl=en&prev=https://www.google.com/search?q%3Dreliance%2Bindustries%2Bril%26sca_esv%3D4ecf938d57668945%26rlz%3D1C1RXQR_enIN1032IN1032%26tbm%3Dnws%26prmd%3Dnivmsbtz%26sxsrf%3DACQVn0_5_MBzeVn8bgvWC_GqwvqHY9Gbxw:1710697576484%26ei%3DaCz3ZcSYHdOZvr0PvLinkAE%26start%3D10%26sa%3DN%26ved%3D2ahUKEwjE7PSK7fuEAxXTjK8BHTzcCRI4FBDy0wN6BAgDEAY%26biw%3D2133%26bih%3D1196%26dpr%3D0.9%26pccc%3D1&sig=0_NpDL3NuebxNDuFHpwizR_PKr_rg%3D&cs=2&sa=X&ved=0ahUKEwiViKz_7fuEAxWzZWwGHfxUDvY4ChCNwAkIVg\n",
      "Processing: https://www.google.com/url?q=https://m.economictimes.com/industry/cons-products/garments-/-textiles/alok-ind-raises-rs-7000-cr-from-ril-two-banks-for-expansion-repayment-of-high-cost-debt/articleshow/108232318.cms&sa=U&ved=2ahUKEwiViKz_7fuEAxWzZWwGHfxUDvY4ChDF9AF6BAgIEAI&usg=AOvVaw1dx4SDN5Sb1UKWQyJLnqu0\n",
      "Processing: https://www.google.com/search?q=reliance+industries+ril&start=10&sa=N&sca_esv=4ecf938d57668945&rlz=1C1RXQR_enIN1032IN1032&biw=2133&bih=1196&ie=UTF-8&tbm=nws&gbv=1&sei=XC33ZZXqJ7PLseMP_Km5sA8\n",
      "Processing: https://www.google.com/search?q=reliance+industries+ril&sca_esv=4ecf938d57668945&rlz=1C1RXQR_enIN1032IN1032&biw=2133&bih=1196&ie=UTF-8&tbm=bks&source=lnms&sa=X&ved=0ahUKEwiViKz_7fuEAxWzZWwGHfxUDvY4ChD8BQgLKAY\n",
      "Processing: https://www.google.com/search?q=reliance+industries+ril&sca_esv=4ecf938d57668945&rlz=1C1RXQR_enIN1032IN1032&biw=2133&bih=1196&ie=UTF-8&tbm=nws&source=lnt&tbs=qdr:m&sa=X&ved=0ahUKEwiViKz_7fuEAxWzZWwGHfxUDvY4ChCnBQgQ\n",
      "Processing: https://www.google.com/?sa=X&ved=0ahUKEwiViKz_7fuEAxWzZWwGHfxUDvY4ChA7CAI\n",
      "Processing: https://www.google.com/url?q=https://support.google.com/websearch%3Fp%3Dws_settings_location%26hl%3Den-IN&opi=89978449&sa=U&ved=0ahUKEwiViKz_7fuEAxWzZWwGHfxUDvY4ChC3LghT&usg=AOvVaw3GaVcHtbJ9RPUsdMmmp9YM\n",
      "Processing: https://www.google.com/url?q=https://m.economictimes.com/industry/media/entertainment/media/reliance-to-buy-13-01-of-paramounts-stake-in-viacom18-for-rs-4286-crore/articleshow/108477572.cms&sa=U&ved=2ahUKEwiViKz_7fuEAxWzZWwGHfxUDvY4ChDF9AF6BAgGEAI&usg=AOvVaw0I277sTPfQCUL6YH_8Icc7\n",
      "Processing: https://www.google.com/search?q=reliance+industries+ril&sca_esv=4ecf938d57668945&rlz=1C1RXQR_enIN1032IN1032&biw=2133&bih=1196&ie=UTF-8&tbm=nws&source=lnt&tbs=sbd:1&sa=X&ved=0ahUKEwiViKz_7fuEAxWzZWwGHfxUDvY4ChCnBQgU\n",
      "Processing: https://www.google.com/url?q=https://m.economictimes.com/markets/stocks/news/reliance-industries-becomes-first-indian-stock-to-cross-rs-20-lakh-crore-market-cap/articleshow/107649534.cms&sa=U&ved=2ahUKEwiViKz_7fuEAxWzZWwGHfxUDvY4ChDF9AF6BAgDEAI&usg=AOvVaw0Fm96ppl5DVW9esz8ocIyT\n",
      "Processing: https://www.google.com/search?q=reliance+industries+ril&sca_esv=4ecf938d57668945&rlz=1C1RXQR_enIN1032IN1032&biw=2133&bih=1196&ie=UTF-8&tbm=nws&source=lnt&tbs=ar:1&sa=X&ved=0ahUKEwiViKz_7fuEAxWzZWwGHfxUDvY4ChCnBQgS\n",
      "Data Dictionary Size: 33\n",
      "https://www.google.com/search?q=reliance+industries+ril&sca_esv=4ecf938d57668945&rlz=1C1RXQR_enIN1032IN1032&tbm=nws&prmd=nivmsbtz&sxsrf=ACQVn0_5_MBzeVn8bgvWC_GqwvqHY9Gbxw:1710697576484&ei=aCz3ZcSYHdOZvr0PvLinkAE&start=10&sa=N&ved=2ahUKEwjE7PSK7fuEAxXTjK8BHTzcCRI4FBDy0wN6BAgDEAY&biw=2133&bih=1196&dpr=0.9\n",
      "https://www.google.com/url?q=https://economictimes.indiatimes.com/markets/stocks/stock-liveblog/reliance-industries-share-price-today-live-updates-11-mar-2024/liveblog/108379328.cms&sa=U&ved=2ahUKEwiViKz_7fuEAxWzZWwGHfxUDvY4ChDF9AF6BAgAEAI&usg=AOvVaw2h_XHu-tHdctNQnbHPhQsb\n",
      "https://www.google.com/url?q=/search%3Fq%3Dreliance%2Bindustries%2Bril%26sca_esv%3D4ecf938d57668945%26rlz%3D1C1RXQR_enIN1032IN1032%26biw%3D2133%26bih%3D1196%26ie%3DUTF-8%26tbm%3Dshop%26source%3Dlnms%26ved%3D1t:200713%26ictx%3D111&opi=89978449&sa=U&ved=0ahUKEwiViKz_7fuEAxWzZWwGHfxUDvY4ChCJoAwICigF&usg=AOvVaw05tGEyP-W7MsqvyxHJt16_\n",
      "https://www.google.com/url?q=https://www.businesstoday.in/markets/company-stock/story/reliance-industries-shares-near-record-high-buy-sell-hold-412201-2024-01-08&sa=U&ved=2ahUKEwiViKz_7fuEAxWzZWwGHfxUDvY4ChDF9AF6BAgEEAI&usg=AOvVaw2gAEw8-CRQLXbJ9aI46yrt\n",
      "https://www.google.com/search?q=reliance+industries+ril&sca_esv=4ecf938d57668945&rlz=1C1RXQR_enIN1032IN1032&biw=2133&bih=1196&ie=UTF-8&tbm=nws&source=lnt&tbs=qdr:h&sa=X&ved=0ahUKEwiViKz_7fuEAxWzZWwGHfxUDvY4ChCnBQgN\n",
      "https://www.google.com/url?q=https://indianexpress.com/article/india/directors-of-owner-firms-of-donor-no-3-qwik-supply-are-reliance-executives-9217046/&sa=U&ved=2ahUKEwiViKz_7fuEAxWzZWwGHfxUDvY4ChDF9AF6BAgJEAI&usg=AOvVaw1Evb5bs0GCTLm3k7n6igFR\n",
      "https://www.google.com/search?q=reliance+industries+ril&sca_esv=4ecf938d57668945&rlz=1C1RXQR_enIN1032IN1032&biw=2133&bih=1196&ie=UTF-8&source=lnms&sa=X&ved=0ahUKEwiViKz_7fuEAxWzZWwGHfxUDvY4ChD8BQgFKAA\n",
      "https://www.google.com/url?q=https://accounts.google.com/ServiceLogin%3Fcontinue%3Dhttps://www.google.com/search%253Fq%253Dreliance%252Bindustries%252Bril%2526sca_esv%253D4ecf938d57668945%2526rlz%253D1C1RXQR_enIN1032IN1032%2526tbm%253Dnws%2526prmd%253Dnivmsbtz%2526sxsrf%253DACQVn0_5_MBzeVn8bgvWC_GqwvqHY9Gbxw:1710697576484%2526ei%253DaCz3ZcSYHdOZvr0PvLinkAE%2526start%253D10%2526sa%253DN%2526ved%253D2ahUKEwjE7PSK7fuEAxXTjK8BHTzcCRI4FBDy0wN6BAgDEAY%2526biw%253D2133%2526bih%253D1196%2526dpr%253D0.9%26hl%3Den&opi=89978449&sa=U&ved=0ahUKEwiViKz_7fuEAxWzZWwGHfxUDvY4ChDGzwIIVA&usg=AOvVaw3FfPBX8aOid22MyF9mV66L\n",
      "https://www.google.com/search?q=reliance+industries+ril&sca_esv=4ecf938d57668945&rlz=1C1RXQR_enIN1032IN1032&biw=2133&bih=1196&ie=UTF-8&tbm=nws&ei=XC33ZZXqJ7PLseMP_Km5sA8&start=0&sa=N\n",
      "https://www.google.com/search?q=reliance+industries+ril&sca_esv=4ecf938d57668945&rlz=1C1RXQR_enIN1032IN1032&biw=2133&bih=1196&ie=UTF-8&tbm=nws&source=lnt&tbs=qdr:w&sa=X&ved=0ahUKEwiViKz_7fuEAxWzZWwGHfxUDvY4ChCnBQgP\n",
      "https://www.google.com/advanced_search\n",
      "https://www.google.com/url?q=https://www.cnbctv18.com/business/companies/reliance-industries-walt-disney-merger-viacom18-star-india-mukesh-ambani-hotstar-colors-jio-cinema-ril-share-price-19157901.htm&sa=U&ved=2ahUKEwiViKz_7fuEAxWzZWwGHfxUDvY4ChDF9AF6BAgHEAI&usg=AOvVaw0_1La0is6aUBs9xBhpwEKJ\n",
      "https://www.google.com/url?q=https://www.cnbctv18.com/market/reliance-industries-ril-share-price-record-high-jio-financial-services-stock-market-cap-above-rs-2-lakh-crore-19118271.htm&sa=U&ved=2ahUKEwiViKz_7fuEAxWzZWwGHfxUDvY4ChDF9AF6BAgBEAI&usg=AOvVaw38O29WU2QpMckxFaljYT5F\n",
      "https://www.google.com/url?q=https://m.economictimes.com/news/politics-and-nation/reliance-linked-qwik-supply-third-largest-electoral-bond-buyer-reliance-says-co-not-its-subsidiary/articleshow/108518268.cms&sa=U&ved=2ahUKEwiViKz_7fuEAxWzZWwGHfxUDvY4ChDF9AF6BAgFEAI&usg=AOvVaw3L7Hx4crxIuQ-UNz7QacSV\n",
      "https://www.google.com/search?q=reliance+industries+ril&sca_esv=4ecf938d57668945&rlz=1C1RXQR_enIN1032IN1032&biw=2133&bih=1196&ie=UTF-8&tbm=nws&source=lnt&tbs=qdr:d&sa=X&ved=0ahUKEwiViKz_7fuEAxWzZWwGHfxUDvY4ChCnBQgO\n",
      "https://www.google.com/url?q=https://www.businesstoday.in/markets/company-stock/story/reliance-industries-shares-hit-record-high-target-price-buy-sell-hold-412742-2024-01-11&sa=U&ved=2ahUKEwiViKz_7fuEAxWzZWwGHfxUDvY4ChDF9AF6BAgCEAI&usg=AOvVaw3vLLqQS-3RaOURJL_QQlZd\n",
      "https://www.google.com/search?q=reliance+industries+ril&sca_esv=4ecf938d57668945&rlz=1C1RXQR_enIN1032IN1032&biw=2133&bih=1196&ie=UTF-8&tbm=nws&ei=XC33ZZXqJ7PLseMP_Km5sA8&start=20&sa=N\n",
      "https://www.google.com/search?q=reliance+industries+ril&sca_esv=4ecf938d57668945&rlz=1C1RXQR_enIN1032IN1032&biw=2133&bih=1196&ie=UTF-8&tbm=vid&source=lnms&sa=X&ved=0ahUKEwiViKz_7fuEAxWzZWwGHfxUDvY4ChD8BQgIKAM\n",
      "https://www.google.com/preferences?hl=en-IN&fg=1&sa=X&ved=0ahUKEwiViKz_7fuEAxWzZWwGHfxUDvY4ChDl9QIIVQ\n",
      "https://www.google.com/search?q=reliance+industries+ril&sca_esv=4ecf938d57668945&rlz=1C1RXQR_enIN1032IN1032&biw=2133&bih=1196&ie=UTF-8&tbm=nws&source=lnt&tbs=qdr:y&sa=X&ved=0ahUKEwiViKz_7fuEAxWzZWwGHfxUDvY4ChCnBQgR\n",
      "https://www.google.com/search?q=reliance+industries+ril&sca_esv=4ecf938d57668945&rlz=1C1RXQR_enIN1032IN1032&biw=2133&bih=1196&ie=UTF-8&tbm=isch&source=lnms&sa=X&ved=0ahUKEwiViKz_7fuEAxWzZWwGHfxUDvY4ChD8BQgHKAI\n",
      "https://www.google.com/url?q=https://maps.google.com/maps%3Fq%3Dreliance%2Bindustries%2Bril%26sca_esv%3D4ecf938d57668945%26rlz%3D1C1RXQR_enIN1032IN1032%26prmd%3Dnivmsbtz%26sxsrf%3DACQVn0_5_MBzeVn8bgvWC_GqwvqHY9Gbxw:1710697576484%26biw%3D2133%26bih%3D1196%26dpr%3D0.9%26um%3D1%26ie%3DUTF-8%26ved%3D1t:200713%26ictx%3D111&opi=89978449&sa=U&ved=0ahUKEwiViKz_7fuEAxWzZWwGHfxUDvY4ChCJoAwICSgE&usg=AOvVaw2lGFM2yXTZBj4ieIwO2bAw\n",
      "https://www.google.com/setprefs?hl=en&prev=https://www.google.com/search?q%3Dreliance%2Bindustries%2Bril%26sca_esv%3D4ecf938d57668945%26rlz%3D1C1RXQR_enIN1032IN1032%26tbm%3Dnws%26prmd%3Dnivmsbtz%26sxsrf%3DACQVn0_5_MBzeVn8bgvWC_GqwvqHY9Gbxw:1710697576484%26ei%3DaCz3ZcSYHdOZvr0PvLinkAE%26start%3D10%26sa%3DN%26ved%3D2ahUKEwjE7PSK7fuEAxXTjK8BHTzcCRI4FBDy0wN6BAgDEAY%26biw%3D2133%26bih%3D1196%26dpr%3D0.9%26pccc%3D1&sig=0_NpDL3NuebxNDuFHpwizR_PKr_rg%3D&cs=2&sa=X&ved=0ahUKEwiViKz_7fuEAxWzZWwGHfxUDvY4ChCNwAkIVg\n",
      "https://www.google.com/url?q=https://m.economictimes.com/industry/cons-products/garments-/-textiles/alok-ind-raises-rs-7000-cr-from-ril-two-banks-for-expansion-repayment-of-high-cost-debt/articleshow/108232318.cms&sa=U&ved=2ahUKEwiViKz_7fuEAxWzZWwGHfxUDvY4ChDF9AF6BAgIEAI&usg=AOvVaw1dx4SDN5Sb1UKWQyJLnqu0\n",
      "https://www.google.com/search?q=reliance+industries+ril&start=10&sa=N&sca_esv=4ecf938d57668945&rlz=1C1RXQR_enIN1032IN1032&biw=2133&bih=1196&ie=UTF-8&tbm=nws&gbv=1&sei=XC33ZZXqJ7PLseMP_Km5sA8\n",
      "https://www.google.com/search?q=reliance+industries+ril&sca_esv=4ecf938d57668945&rlz=1C1RXQR_enIN1032IN1032&biw=2133&bih=1196&ie=UTF-8&tbm=bks&source=lnms&sa=X&ved=0ahUKEwiViKz_7fuEAxWzZWwGHfxUDvY4ChD8BQgLKAY\n",
      "https://www.google.com/search?q=reliance+industries+ril&sca_esv=4ecf938d57668945&rlz=1C1RXQR_enIN1032IN1032&biw=2133&bih=1196&ie=UTF-8&tbm=nws&source=lnt&tbs=qdr:m&sa=X&ved=0ahUKEwiViKz_7fuEAxWzZWwGHfxUDvY4ChCnBQgQ\n",
      "https://www.google.com/?sa=X&ved=0ahUKEwiViKz_7fuEAxWzZWwGHfxUDvY4ChA7CAI\n",
      "https://www.google.com/url?q=https://support.google.com/websearch%3Fp%3Dws_settings_location%26hl%3Den-IN&opi=89978449&sa=U&ved=0ahUKEwiViKz_7fuEAxWzZWwGHfxUDvY4ChC3LghT&usg=AOvVaw3GaVcHtbJ9RPUsdMmmp9YM\n",
      "https://www.google.com/url?q=https://m.economictimes.com/industry/media/entertainment/media/reliance-to-buy-13-01-of-paramounts-stake-in-viacom18-for-rs-4286-crore/articleshow/108477572.cms&sa=U&ved=2ahUKEwiViKz_7fuEAxWzZWwGHfxUDvY4ChDF9AF6BAgGEAI&usg=AOvVaw0I277sTPfQCUL6YH_8Icc7\n",
      "https://www.google.com/search?q=reliance+industries+ril&sca_esv=4ecf938d57668945&rlz=1C1RXQR_enIN1032IN1032&biw=2133&bih=1196&ie=UTF-8&tbm=nws&source=lnt&tbs=sbd:1&sa=X&ved=0ahUKEwiViKz_7fuEAxWzZWwGHfxUDvY4ChCnBQgU\n",
      "https://www.google.com/url?q=https://m.economictimes.com/markets/stocks/news/reliance-industries-becomes-first-indian-stock-to-cross-rs-20-lakh-crore-market-cap/articleshow/107649534.cms&sa=U&ved=2ahUKEwiViKz_7fuEAxWzZWwGHfxUDvY4ChDF9AF6BAgDEAI&usg=AOvVaw0Fm96ppl5DVW9esz8ocIyT\n",
      "https://www.google.com/search?q=reliance+industries+ril&sca_esv=4ecf938d57668945&rlz=1C1RXQR_enIN1032IN1032&biw=2133&bih=1196&ie=UTF-8&tbm=nws&source=lnt&tbs=ar:1&sa=X&ved=0ahUKEwiViKz_7fuEAxWzZWwGHfxUDvY4ChCnBQgS\n"
     ]
    }
   ],
   "source": [
    "main('https://www.google.com/search?q=reliance+industries+ril&sca_esv=4ecf938d57668945&rlz=1C1RXQR_enIN1032IN1032&tbm=nws&prmd=nivmsbtz&sxsrf=ACQVn0_5_MBzeVn8bgvWC_GqwvqHY9Gbxw:1710697576484&ei=aCz3ZcSYHdOZvr0PvLinkAE&start=10&sa=N&ved=2ahUKEwjE7PSK7fuEAxXTjK8BHTzcCRI4FBDy0wN6BAgDEAY&biw=2133&bih=1196&dpr=0.9', 3, 50)"
   ]
  }
 ],
 "metadata": {
  "kernelspec": {
   "display_name": "Python 3",
   "language": "python",
   "name": "python3"
  },
  "language_info": {
   "codemirror_mode": {
    "name": "ipython",
    "version": 3
   },
   "file_extension": ".py",
   "mimetype": "text/x-python",
   "name": "python",
   "nbconvert_exporter": "python",
   "pygments_lexer": "ipython3",
   "version": "3.12.1"
  }
 },
 "nbformat": 4,
 "nbformat_minor": 2
}
